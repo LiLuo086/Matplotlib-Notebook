{
 "cells": [
  {
   "cell_type": "markdown",
   "id": "0cf938a2",
   "metadata": {
    "papermill": {
     "duration": 0.003965,
     "end_time": "2023-08-20T18:43:02.865693",
     "exception": false,
     "start_time": "2023-08-20T18:43:02.861728",
     "status": "completed"
    },
    "tags": []
   },
   "source": [
    "Import the packages"
   ]
  },
  {
   "cell_type": "code",
   "execution_count": 1,
   "id": "8759561c",
   "metadata": {
    "execution": {
     "iopub.execute_input": "2023-08-20T18:43:02.874881Z",
     "iopub.status.busy": "2023-08-20T18:43:02.874397Z",
     "iopub.status.idle": "2023-08-20T18:43:02.886279Z",
     "shell.execute_reply": "2023-08-20T18:43:02.885150Z"
    },
    "papermill": {
     "duration": 0.019565,
     "end_time": "2023-08-20T18:43:02.888991",
     "exception": false,
     "start_time": "2023-08-20T18:43:02.869426",
     "status": "completed"
    },
    "tags": []
   },
   "outputs": [],
   "source": [
    "import numpy as np\n",
    "import pandas as pd\n",
    "\n",
    "\n",
    "# import matplotlib package\n",
    "import matplotlib as mpl\n",
    "import matplotlib.pyplot as plt"
   ]
  },
  {
   "cell_type": "markdown",
   "id": "c11c85ad",
   "metadata": {
    "papermill": {
     "duration": 0.00333,
     "end_time": "2023-08-20T18:43:02.895985",
     "exception": false,
     "start_time": "2023-08-20T18:43:02.892655",
     "status": "completed"
    },
    "tags": []
   },
   "source": [
    "Load the csv file into a DataFrame"
   ]
  },
  {
   "cell_type": "code",
   "execution_count": 2,
   "id": "1174c8a2",
   "metadata": {
    "execution": {
     "iopub.execute_input": "2023-08-20T18:43:02.905134Z",
     "iopub.status.busy": "2023-08-20T18:43:02.904714Z",
     "iopub.status.idle": "2023-08-20T18:43:02.926052Z",
     "shell.execute_reply": "2023-08-20T18:43:02.925075Z"
    },
    "papermill": {
     "duration": 0.028654,
     "end_time": "2023-08-20T18:43:02.928548",
     "exception": false,
     "start_time": "2023-08-20T18:43:02.899894",
     "status": "completed"
    },
    "tags": []
   },
   "outputs": [],
   "source": [
    "df = pd.read_csv('/kaggle/input/canada-per-capita-income/Canada_per_capita_income.csv')"
   ]
  },
  {
   "cell_type": "code",
   "execution_count": 3,
   "id": "a5872119",
   "metadata": {
    "execution": {
     "iopub.execute_input": "2023-08-20T18:43:02.937139Z",
     "iopub.status.busy": "2023-08-20T18:43:02.936722Z",
     "iopub.status.idle": "2023-08-20T18:43:02.964344Z",
     "shell.execute_reply": "2023-08-20T18:43:02.963440Z"
    },
    "papermill": {
     "duration": 0.034728,
     "end_time": "2023-08-20T18:43:02.966921",
     "exception": false,
     "start_time": "2023-08-20T18:43:02.932193",
     "status": "completed"
    },
    "tags": []
   },
   "outputs": [
    {
     "name": "stdout",
     "output_type": "stream",
     "text": [
      "<class 'pandas.core.frame.DataFrame'>\n",
      "RangeIndex: 47 entries, 0 to 46\n",
      "Data columns (total 2 columns):\n",
      " #   Column  Non-Null Count  Dtype  \n",
      "---  ------  --------------  -----  \n",
      " 0   year    47 non-null     int64  \n",
      " 1   income  47 non-null     float64\n",
      "dtypes: float64(1), int64(1)\n",
      "memory usage: 880.0 bytes\n"
     ]
    }
   ],
   "source": [
    "# show information of DataFrame df\n",
    "df.info()"
   ]
  },
  {
   "cell_type": "markdown",
   "id": "932a4cff",
   "metadata": {
    "papermill": {
     "duration": 0.003201,
     "end_time": "2023-08-20T18:43:02.973771",
     "exception": false,
     "start_time": "2023-08-20T18:43:02.970570",
     "status": "completed"
    },
    "tags": []
   },
   "source": [
    "\n",
    "create a new figure with size = 10,6 (width, height) in inches using `plt.figure()`"
   ]
  },
  {
   "cell_type": "code",
   "execution_count": 4,
   "id": "005a3540",
   "metadata": {
    "execution": {
     "iopub.execute_input": "2023-08-20T18:43:02.982614Z",
     "iopub.status.busy": "2023-08-20T18:43:02.981775Z",
     "iopub.status.idle": "2023-08-20T18:43:02.999514Z",
     "shell.execute_reply": "2023-08-20T18:43:02.998196Z"
    },
    "papermill": {
     "duration": 0.024961,
     "end_time": "2023-08-20T18:43:03.002100",
     "exception": false,
     "start_time": "2023-08-20T18:43:02.977139",
     "status": "completed"
    },
    "tags": []
   },
   "outputs": [
    {
     "data": {
      "text/plain": [
       "<Figure size 1000x600 with 0 Axes>"
      ]
     },
     "execution_count": 4,
     "metadata": {},
     "output_type": "execute_result"
    },
    {
     "data": {
      "text/plain": [
       "<Figure size 1000x600 with 0 Axes>"
      ]
     },
     "metadata": {},
     "output_type": "display_data"
    }
   ],
   "source": [
    "plt.figure(figsize=(10, 6))"
   ]
  },
  {
   "cell_type": "markdown",
   "id": "71f3b98c",
   "metadata": {
    "papermill": {
     "duration": 0.003518,
     "end_time": "2023-08-20T18:43:03.009652",
     "exception": false,
     "start_time": "2023-08-20T18:43:03.006134",
     "status": "completed"
    },
    "tags": []
   },
   "source": [
    "plot data in line format with marker"
   ]
  },
  {
   "cell_type": "code",
   "execution_count": 5,
   "id": "033cabb3",
   "metadata": {
    "execution": {
     "iopub.execute_input": "2023-08-20T18:43:03.018988Z",
     "iopub.status.busy": "2023-08-20T18:43:03.018600Z",
     "iopub.status.idle": "2023-08-20T18:43:03.330734Z",
     "shell.execute_reply": "2023-08-20T18:43:03.329887Z"
    },
    "papermill": {
     "duration": 0.319784,
     "end_time": "2023-08-20T18:43:03.333184",
     "exception": false,
     "start_time": "2023-08-20T18:43:03.013400",
     "status": "completed"
    },
    "tags": []
   },
   "outputs": [
    {
     "data": {
      "text/plain": [
       "[<matplotlib.lines.Line2D at 0x7d15bfe75210>]"
      ]
     },
     "execution_count": 5,
     "metadata": {},
     "output_type": "execute_result"
    },
    {
     "data": {
      "image/png": "[encoded data removed]",
      "text/plain": [
       "<Figure size 640x480 with 1 Axes>"
      ]
     },
     "metadata": {},
     "output_type": "display_data"
    }
   ],
   "source": [
    "plt.plot(df[\"year\"], df[\"income\"], marker='o')"
   ]
  }
 ],
 "metadata": {
  "kernelspec": {
   "display_name": "Python 3",
   "language": "python",
   "name": "python3"
  },
  "language_info": {
   "codemirror_mode": {
    "name": "ipython",
    "version": 3
   },
   "file_extension": ".py",
   "mimetype": "text/x-python",
   "name": "python",
   "nbconvert_exporter": "python",
   "pygments_lexer": "ipython3",
   "version": "3.10.12"
  },
  "papermill": {
   "default_parameters": {},
   "duration": 12.254456,
   "end_time": "2023-08-20T18:43:04.160698",
   "environment_variables": {},
   "exception": null,
   "input_path": "__notebook__.ipynb",
   "output_path": "__notebook__.ipynb",
   "parameters": {},
   "start_time": "2023-08-20T18:42:51.906242",
   "version": "2.4.0"
  }
 },
 "nbformat": 4,
 "nbformat_minor": 5
}
